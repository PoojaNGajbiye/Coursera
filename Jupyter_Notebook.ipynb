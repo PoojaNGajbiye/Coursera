{
 "cells": [
  {
   "cell_type": "markdown",
   "metadata": {},
   "source": [
    "<center>\n",
    "    <img src=\"https://cf-courses-data.s3.us.cloud-object-storage.appdomain.cloud/IBMDeveloperSkillsNetwork-DS0105EN-SkillsNetwork/labs/Module2/images/SN_web_lightmode.png\" width=\"300\" alt=\"cognitiveclass.ai logo\">\n",
    "</center>\n"
   ]
  },
  {
   "cell_type": "markdown",
   "metadata": {},
   "source": [
    "#### Add your code below following the instructions given in the course\n"
   ]
  },
  {
   "cell_type": "markdown",
   "metadata": {},
   "source": [
    "ex.2\n",
    "# Peer Graded Review Assignment"
   ]
  },
  {
   "cell_type": "markdown",
   "metadata": {},
   "source": [
    "ex.3 I am an Aerospace Engineering Masters student"
   ]
  },
  {
   "cell_type": "markdown",
   "metadata": {
    "jp-MarkdownHeadingCollapsed": true,
    "tags": []
   },
   "source": [
    "ex.4 \n",
    "### Data Science Languages\n",
    "1. Python\n",
    "2. SQL\n",
    "3. R\n",
    "4. Java\n",
    "5. Julia"
   ]
  },
  {
   "cell_type": "markdown",
   "metadata": {},
   "source": [
    "ex.5 \n",
    "### Data Science Libraries\n",
    "1. Matplotlib\n",
    "2. Keras\n",
    "3. Scikit-learn\n",
    "4. Plotly\n",
    "5. Pandas\n"
   ]
  },
  {
   "cell_type": "markdown",
   "metadata": {},
   "source": [
    "ex.6 TABLE\n",
    "### Data Science Tools\n",
    "\n",
    "\n",
    "| Column 1 | Column 2 | Column 3 |\n",
    "|:--------:|:--------:|:--------:|\n",
    "|  Apache Spark  |  TensorFlow  |  Tableau   |\n"
   ]
  },
  {
   "cell_type": "markdown",
   "metadata": {},
   "source": [
    "ex.7\n",
    "\n",
    "### To perform Arthimetic calculations\n",
    "\n",
    "eg. 2+3"
   ]
  },
  {
   "cell_type": "code",
   "execution_count": 1,
   "metadata": {
    "tags": []
   },
   "outputs": [
    {
     "data": {
      "text/plain": [
       "7"
      ]
     },
     "execution_count": 1,
     "metadata": {},
     "output_type": "execute_result"
    }
   ],
   "source": [
    "# ex.8\n",
    "\n",
    "1*2\n",
    "3+4"
   ]
  },
  {
   "cell_type": "code",
   "execution_count": 3,
   "metadata": {
    "tags": []
   },
   "outputs": [
    {
     "name": "stdin",
     "output_type": "stream",
     "text": [
      "minutes are 60\n"
     ]
    },
    {
     "name": "stdout",
     "output_type": "stream",
     "text": [
      "1.0\n"
     ]
    }
   ],
   "source": [
    "# ex.9 \n",
    "min=int(input('minutes are'))\n",
    "hours=min/60\n",
    "print(hours)"
   ]
  },
  {
   "cell_type": "markdown",
   "metadata": {},
   "source": [
    "ex.10 \n",
    "## To submit this assignment and get good grades."
   ]
  },
  {
   "cell_type": "markdown",
   "metadata": {},
   "source": [
    "ex.11 \n",
    "## Pooja G"
   ]
  },
  {
   "cell_type": "code",
   "execution_count": null,
   "metadata": {},
   "outputs": [],
   "source": []
  }
 ],
 "metadata": {
  "kernelspec": {
   "display_name": "Python",
   "language": "python",
   "name": "conda-env-python-py"
  },
  "language_info": {
   "codemirror_mode": {
    "name": "ipython",
    "version": 3
   },
   "file_extension": ".py",
   "mimetype": "text/x-python",
   "name": "python",
   "nbconvert_exporter": "python",
   "pygments_lexer": "ipython3",
   "version": "3.7.12"
  }
 },
 "nbformat": 4,
 "nbformat_minor": 4
}
